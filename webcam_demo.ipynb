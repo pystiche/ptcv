{
 "cells": [
  {
   "cell_type": "code",
   "execution_count": 1,
   "id": "4e5a9ded-f96c-420c-8df2-bff1eaae774f",
   "metadata": {
    "tags": []
   },
   "outputs": [],
   "source": [
    "import io\n",
    "\n",
    "import PIL.Image\n",
    "\n",
    "import ipywidgets\n",
    "import ipywebrtc"
   ]
  },
  {
   "cell_type": "code",
   "execution_count": 2,
   "id": "eb6ed60d-6150-4de8-b589-81ffad4c3f04",
   "metadata": {
    "tags": []
   },
   "outputs": [],
   "source": [
    "def transform_image_stream(stream, transform) -> ipywidgets.Image:\n",
    "    recorder = ipywebrtc.ImageRecorder(stream=camera)\n",
    "    output = ipywidgets.Image()\n",
    "    \n",
    "    def on_value_changed(event):\n",
    "        input = event[\"new\"]\n",
    "        image = PIL.Image.open(io.BytesIO(input))\n",
    "        with io.BytesIO() as buffer:\n",
    "            transform(image).save(buffer, format=\"PNG\")\n",
    "            output.value = buffer.getvalue()\n",
    "            \n",
    "        recorder.recording = True\n",
    "    \n",
    "    recorder.image.observe(on_value_changed, \"value\")\n",
    "    recorder.recording = True\n",
    "    \n",
    "    return output, recorder"
   ]
  },
  {
   "cell_type": "code",
   "execution_count": 3,
   "id": "8b9f6f64-a64e-45f3-812e-8650ad36ae72",
   "metadata": {},
   "outputs": [],
   "source": [
    "from pystiche import demo\n",
    "from torch import hub\n",
    "\n",
    "url = \"https://download.pystiche.org/models/example_transformer_ptcv.pth\"\n",
    "state_dict = hub.load_state_dict_from_url(url)\n",
    "transformer = demo.transformer()\n",
    "transformer.load_state_dict(state_dict)\n",
    "_ = transformer.cuda()"
   ]
  },
  {
   "cell_type": "code",
   "execution_count": 4,
   "id": "435319ba-5b4e-4d1b-8dc3-a26c1d27ad8c",
   "metadata": {},
   "outputs": [],
   "source": [
    "from torchvision.transforms.functional import to_tensor, to_pil_image\n",
    "\n",
    "def nst_transform(image: PIL.Image.Image) -> PIL.Image.Image:\n",
    "    image = to_tensor(image.convert(\"RGB\")).cuda()\n",
    "    # transformer expects a batched image\n",
    "    image = transformer(image.unsqueeze(0)).squeeze(0)\n",
    "    return to_pil_image(image.cpu())"
   ]
  },
  {
   "cell_type": "code",
   "execution_count": 5,
   "id": "efaa8ebf-cc27-4965-91ac-6ad347bc006f",
   "metadata": {},
   "outputs": [
    {
     "data": {
      "application/vnd.jupyter.widget-view+json": {
       "model_id": "d4c555f2b06244ef864e645d73f4964d",
       "version_major": 2,
       "version_minor": 0
      },
      "text/plain": [
       "HBox(children=(CameraStream(constraints={'video': {'width': 400, 'facingMode': 'user'}, 'audio': False}), Imag…"
      ]
     },
     "metadata": {},
     "output_type": "display_data"
    }
   ],
   "source": [
    "camera = ipywebrtc.CameraStream.facing_user(audio=False, constraints=dict(video=dict(width=400)))\n",
    "\n",
    "output, recorder = transform_image_stream(camera, nst_transform)\n",
    "\n",
    "ipywidgets.HBox([camera, output])"
   ]
  },
  {
   "cell_type": "code",
   "execution_count": 6,
   "id": "4807e887-2173-4f1d-8459-2f7c463a4ecd",
   "metadata": {
    "tags": []
   },
   "outputs": [
    {
     "data": {
      "application/vnd.jupyter.widget-view+json": {
       "model_id": "561581adb7664d77a2e79e24ba6fd017",
       "version_major": 2,
       "version_minor": 0
      },
      "text/plain": [
       "ImageRecorder(image=Image(value=b'\\x89PNG\\r\\n\\x1a\\n\\x00\\x00\\x00\\rIHDR\\x00\\x00\\x01`\\x00\\x00\\x01 \\x08\\x06\\x00\\x0…"
      ]
     },
     "metadata": {},
     "output_type": "display_data"
    }
   ],
   "source": [
    "recorder"
   ]
  }
 ],
 "metadata": {
  "kernelspec": {
   "display_name": "Python 3",
   "language": "python",
   "name": "python3"
  },
  "language_info": {
   "codemirror_mode": {
    "name": "ipython",
    "version": 3
   },
   "file_extension": ".py",
   "mimetype": "text/x-python",
   "name": "python",
   "nbconvert_exporter": "python",
   "pygments_lexer": "ipython3",
   "version": "3.9.5"
  }
 },
 "nbformat": 4,
 "nbformat_minor": 5
}
